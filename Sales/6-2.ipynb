{
  "nbformat": 4,
  "nbformat_minor": 0,
  "metadata": {
    "colab": {
      "name": "6-2.ipynb",
      "provenance": [],
      "collapsed_sections": [],
      "authorship_tag": "ABX9TyPl/8tkXaKyhn6xXpmYHfE5",
      "include_colab_link": true
    },
    "kernelspec": {
      "name": "python3",
      "display_name": "Python 3"
    },
    "language_info": {
      "name": "python"
    }
  },
  "cells": [
    {
      "cell_type": "markdown",
      "metadata": {
        "id": "view-in-github",
        "colab_type": "text"
      },
      "source": [
        "<a href=\"https://colab.research.google.com/github/yeneua/2022-1/blob/main/6-2.ipynb\" target=\"_parent\"><img src=\"https://colab.research.google.com/assets/colab-badge.svg\" alt=\"Open In Colab\"/></a>"
      ]
    },
    {
      "cell_type": "code",
      "execution_count": null,
      "metadata": {
        "colab": {
          "base_uri": "https://localhost:8080/"
        },
        "id": "OQrD4rucMrcZ",
        "outputId": "fa2b0646-1836-497d-d2a4-abde8022b281"
      },
      "outputs": [
        {
          "output_type": "stream",
          "name": "stdout",
          "text": [
            "hello world !\n"
          ]
        }
      ],
      "source": [
        "import pandas as pd\n",
        "\n",
        "print(\"hello world !\")"
      ]
    },
    {
      "cell_type": "code",
      "source": [
        "sum = 0\n",
        "for i in range(10):\n",
        "  sum+=i\n",
        "\n",
        "print(sum)"
      ],
      "metadata": {
        "id": "3DDt9772NRNX",
        "colab": {
          "base_uri": "https://localhost:8080/"
        },
        "outputId": "11d0309f-21aa-4046-8cf1-7c8fced4f16d"
      },
      "execution_count": null,
      "outputs": [
        {
          "output_type": "stream",
          "name": "stdout",
          "text": [
            "45\n"
          ]
        }
      ]
    },
    {
      "cell_type": "code",
      "source": [
        "# 파이썬 기초"
      ],
      "metadata": {
        "id": "QwU8iOrVQzNc"
      },
      "execution_count": null,
      "outputs": []
    },
    {
      "cell_type": "code",
      "source": [
        "# 자료유형 다루기 연습"
      ],
      "metadata": {
        "id": "fsZ28z0XQ7xR"
      },
      "execution_count": null,
      "outputs": []
    },
    {
      "cell_type": "code",
      "source": [
        "### 데이터 유형\n",
        "# 숫자형 - 정수 실수\n",
        "# 문자형\n",
        "# 리스트\n",
        "# 튜플\n",
        "# 집합\n",
        "# 사전(dictionary)\n",
        "# 논리/boolean"
      ],
      "metadata": {
        "id": "6Wq9yi4kO8RW"
      },
      "execution_count": null,
      "outputs": []
    },
    {
      "cell_type": "code",
      "source": [
        "# 숫자형 - 정수(integer)"
      ],
      "metadata": {
        "id": "8gK7UeZgPI5T"
      },
      "execution_count": null,
      "outputs": []
    },
    {
      "cell_type": "code",
      "source": [
        "a = 123\n",
        "b = -123.4\n",
        "a + b  # => -0.4000000000000057 : 컴퓨터상의 계산. 조금씩 다를 수 있음"
      ],
      "metadata": {
        "colab": {
          "base_uri": "https://localhost:8080/"
        },
        "id": "CjA9aJnzRB8H",
        "outputId": "25f560c7-96bc-445f-d18f-9be07c86912a"
      },
      "execution_count": null,
      "outputs": [
        {
          "output_type": "execute_result",
          "data": {
            "text/plain": [
              "-0.4000000000000057"
            ]
          },
          "metadata": {},
          "execution_count": 5
        }
      ]
    },
    {
      "cell_type": "code",
      "source": [
        "c = 0o34 #8진수\n",
        "d = 0o25 #8진수 (octal)\n",
        "c + d"
      ],
      "metadata": {
        "colab": {
          "base_uri": "https://localhost:8080/"
        },
        "id": "jSn5KaF4RWPZ",
        "outputId": "6e4fba6a-dc4d-489c-d311-cbb68067ae29"
      },
      "execution_count": null,
      "outputs": [
        {
          "output_type": "execute_result",
          "data": {
            "text/plain": [
              "49"
            ]
          },
          "metadata": {},
          "execution_count": 6
        }
      ]
    },
    {
      "cell_type": "code",
      "source": [
        "e = 0x2A #10진수\n",
        "f = 0xFF\n",
        "e + f"
      ],
      "metadata": {
        "colab": {
          "base_uri": "https://localhost:8080/"
        },
        "id": "hMmD2ZtJR2xH",
        "outputId": "22178af2-187b-4876-ab8f-27a3b226f5fa"
      },
      "execution_count": null,
      "outputs": [
        {
          "output_type": "execute_result",
          "data": {
            "text/plain": [
              "297"
            ]
          },
          "metadata": {},
          "execution_count": 7
        }
      ]
    },
    {
      "cell_type": "markdown",
      "source": [
        "문자열"
      ],
      "metadata": {
        "id": "jWj0mKXeXVa6"
      }
    },
    {
      "cell_type": "code",
      "source": [
        "S = 'Donga MIS' #문자가 할당됨\n",
        "S1 = \"Donga MIS\"\n",
        "S2 = '\"Donga MIS\"' #따옴표까지 문자로 인식\n",
        "S3 = ''\"Donga MIS\"'' #문자만 출력. 따옴표 빼고\n",
        "print(S)\n",
        "print(S1)\n",
        "print(S2)\n",
        "print(S3)"
      ],
      "metadata": {
        "colab": {
          "base_uri": "https://localhost:8080/"
        },
        "id": "oQPITK2dSBmw",
        "outputId": "a3f6a42f-ec26-4866-ab7e-411e3fa89227"
      },
      "execution_count": null,
      "outputs": [
        {
          "output_type": "stream",
          "name": "stdout",
          "text": [
            "Donga MIS\n",
            "Donga MIS\n",
            "\"Donga MIS\"\n",
            "Donga MIS\n"
          ]
        }
      ]
    },
    {
      "cell_type": "code",
      "source": [
        "S4 = '123' #문자형이다\n",
        "print(S4, type(S4))"
      ],
      "metadata": {
        "colab": {
          "base_uri": "https://localhost:8080/"
        },
        "id": "koX2VGZxSr9F",
        "outputId": "bfc6f32b-b9cf-44ad-8014-ee529a7aa3ca"
      },
      "execution_count": null,
      "outputs": [
        {
          "output_type": "stream",
          "name": "stdout",
          "text": [
            "123 <class 'str'>\n"
          ]
        }
      ]
    },
    {
      "cell_type": "code",
      "source": [
        "a = 'Donga'\n",
        "b = 'MIS'\n",
        "print(a + b) #붙어서 출력\n",
        "print(a, b) #중간에 띄워쓰기\n",
        "print(a, '', b) #중간에 띄워짐"
      ],
      "metadata": {
        "colab": {
          "base_uri": "https://localhost:8080/"
        },
        "id": "wcpSuEhcSzxt",
        "outputId": "79713321-bca8-4591-920d-f6ab800c26ea"
      },
      "execution_count": null,
      "outputs": [
        {
          "output_type": "stream",
          "name": "stdout",
          "text": [
            "DongaMIS\n",
            "Donga MIS\n",
            "Donga  MIS\n"
          ]
        }
      ]
    },
    {
      "cell_type": "code",
      "source": [
        "print(S*3) #S를 3번 연달아 출력"
      ],
      "metadata": {
        "colab": {
          "base_uri": "https://localhost:8080/"
        },
        "id": "bkBSyp4FTI_h",
        "outputId": "8b8a4021-0bf0-4cd6-db6a-64b7e31f4d4e"
      },
      "execution_count": null,
      "outputs": [
        {
          "output_type": "stream",
          "name": "stdout",
          "text": [
            "Donga MISDonga MISDonga MIS\n"
          ]
        }
      ]
    },
    {
      "cell_type": "code",
      "source": [
        "a = 'Donga Management Information System' #파이썬 인덱스 : 0부터 시작\n",
        "print(a[3]) #[] : 데이터에 접근할 때, 요소에 접근할 때\n",
        "print(a[-3]) #뒤에서부터\n",
        "print(a[-1]) # => m 출력됨. 뒤에서부터 할 땐, -1이 제일 뒤에 요소 가리킴\n",
        "print(a[-3:-1]) # -3 ~ -2출력\n",
        "print(a[3:8]) #=> ga Ma 출력됨. 범위 지정. 3~7까지 출력. 빈칸도 하나의 요소\n",
        "print(a[4:]) #4부터 출력\n",
        "print(a[:4]) #3까지 출력\n",
        "# 인덱싱, 슬라이싱"
      ],
      "metadata": {
        "colab": {
          "base_uri": "https://localhost:8080/"
        },
        "id": "Tx8gnGvaTSI4",
        "outputId": "173bd7af-a789-4b5b-b738-a9ad91a39edc"
      },
      "execution_count": null,
      "outputs": [
        {
          "output_type": "stream",
          "name": "stdout",
          "text": [
            "g\n",
            "t\n",
            "m\n",
            "te\n",
            "ga Ma\n",
            "a Management Information System\n",
            "Dong\n"
          ]
        }
      ]
    },
    {
      "cell_type": "markdown",
      "source": [
        "리스트 - 순서가 존재, 여러 타입의 데이터 가능"
      ],
      "metadata": {
        "id": "fBoRWAuJXCNW"
      }
    },
    {
      "cell_type": "code",
      "source": [
        "a = [1,2,3,4,5] #리스트 형태로 저장\n",
        "print(a)\n",
        "print(a[0]) # 인덱스 0인것 출력\n",
        "print(a[0:5])\n",
        "print(a[:5])\n",
        "print(a[2:])"
      ],
      "metadata": {
        "colab": {
          "base_uri": "https://localhost:8080/"
        },
        "id": "olyfvelJVF3g",
        "outputId": "fde65b2e-9ed0-4092-994e-9f693588c97c"
      },
      "execution_count": null,
      "outputs": [
        {
          "output_type": "stream",
          "name": "stdout",
          "text": [
            "[1, 2, 3, 4, 5]\n",
            "1\n",
            "[1, 2, 3, 4, 5]\n",
            "[1, 2, 3, 4, 5]\n",
            "[3, 4, 5]\n"
          ]
        }
      ]
    },
    {
      "cell_type": "code",
      "source": [
        "a.append(6) #추가. a리스트에 append\n",
        "print(a)"
      ],
      "metadata": {
        "colab": {
          "base_uri": "https://localhost:8080/"
        },
        "id": "SrV5a6C6VfV_",
        "outputId": "a4b9ee09-99fc-44b9-f4c9-758be332448d"
      },
      "execution_count": null,
      "outputs": [
        {
          "output_type": "stream",
          "name": "stdout",
          "text": [
            "[1, 2, 3, 4, 5, 6]\n"
          ]
        }
      ]
    },
    {
      "cell_type": "code",
      "source": [
        "a[0] = 0 #a[0]을 0으로 변경\n",
        "print(a)"
      ],
      "metadata": {
        "colab": {
          "base_uri": "https://localhost:8080/"
        },
        "id": "UmrgxzbeVx5k",
        "outputId": "b43aba21-db52-4d26-cffc-6416675204b1"
      },
      "execution_count": null,
      "outputs": [
        {
          "output_type": "stream",
          "name": "stdout",
          "text": [
            "[0, 2, 3, 4, 5, 6]\n"
          ]
        }
      ]
    },
    {
      "cell_type": "code",
      "source": [
        "del a[1] #인덱스 1 삭제\n",
        "print(a)"
      ],
      "metadata": {
        "colab": {
          "base_uri": "https://localhost:8080/"
        },
        "id": "F-Kw1QPxV6X3",
        "outputId": "95427c76-be96-4053-b14c-6300e1f1a8be"
      },
      "execution_count": null,
      "outputs": [
        {
          "output_type": "stream",
          "name": "stdout",
          "text": [
            "[0, 3, 4, 5, 6]\n"
          ]
        }
      ]
    },
    {
      "cell_type": "code",
      "source": [
        "a = [1, 2]\n",
        "b = [3, 4, 5]\n",
        "c = a + b\n",
        "print(c) #리스트 더하기"
      ],
      "metadata": {
        "colab": {
          "base_uri": "https://localhost:8080/"
        },
        "id": "Mgwx4WLaWOjq",
        "outputId": "1422e106-0ac7-4048-c9ed-5c0fa7ffb596"
      },
      "execution_count": 10,
      "outputs": [
        {
          "output_type": "stream",
          "name": "stdout",
          "text": [
            "[1, 2, 3, 4, 5]\n"
          ]
        }
      ]
    },
    {
      "cell_type": "code",
      "source": [
        "d = a*3 #리스트 반복\n",
        "print(d)"
      ],
      "metadata": {
        "colab": {
          "base_uri": "https://localhost:8080/"
        },
        "id": "py3BRoNaWa6f",
        "outputId": "a774b919-bdd0-4f3a-d3d1-7f952c7ea35f"
      },
      "execution_count": null,
      "outputs": [
        {
          "output_type": "stream",
          "name": "stdout",
          "text": [
            "[1, 2, 1, 2, 1, 2]\n"
          ]
        }
      ]
    },
    {
      "cell_type": "code",
      "source": [
        "a - b #TypeError : unsupported operand type for -: 'list' and 'list'"
      ],
      "metadata": {
        "colab": {
          "base_uri": "https://localhost:8080/",
          "height": 176
        },
        "id": "VvxyP2nblYP7",
        "outputId": "e725607b-f579-4752-eeca-36dc2c3da69a"
      },
      "execution_count": 11,
      "outputs": [
        {
          "output_type": "error",
          "ename": "TypeError",
          "evalue": "ignored",
          "traceback": [
            "\u001b[0;31m---------------------------------------------------------------------------\u001b[0m",
            "\u001b[0;31mTypeError\u001b[0m                                 Traceback (most recent call last)",
            "\u001b[0;32m<ipython-input-11-5ae0619f8fe1>\u001b[0m in \u001b[0;36m<module>\u001b[0;34m()\u001b[0m\n\u001b[0;32m----> 1\u001b[0;31m \u001b[0ma\u001b[0m\u001b[0;34m-\u001b[0m\u001b[0mb\u001b[0m\u001b[0;34m\u001b[0m\u001b[0;34m\u001b[0m\u001b[0m\n\u001b[0m",
            "\u001b[0;31mTypeError\u001b[0m: unsupported operand type(s) for -: 'list' and 'list'"
          ]
        }
      ]
    },
    {
      "cell_type": "markdown",
      "source": [
        "튜플 - 리스트와 같지만. 삭제, 수정, 생성 불가. 소괄호"
      ],
      "metadata": {
        "id": "ylj6R2TcWxtx"
      }
    },
    {
      "cell_type": "code",
      "source": [
        "t = (1,2,3,4,5)\n",
        "print(t)"
      ],
      "metadata": {
        "colab": {
          "base_uri": "https://localhost:8080/"
        },
        "id": "yBZqrIYgW5j4",
        "outputId": "16cb55f6-90b0-475a-bf5d-89195b442567"
      },
      "execution_count": null,
      "outputs": [
        {
          "output_type": "stream",
          "name": "stdout",
          "text": [
            "(1, 2, 3, 4, 5)\n"
          ]
        }
      ]
    },
    {
      "cell_type": "code",
      "source": [
        "print(t[1]) #인덱스 1출력. 요소 추출할때, 요소에 접근할 때 대괄호"
      ],
      "metadata": {
        "colab": {
          "base_uri": "https://localhost:8080/"
        },
        "id": "Y06_yr5jXu96",
        "outputId": "0e02e5ae-a6cc-41c4-b5a5-42c19512908e"
      },
      "execution_count": null,
      "outputs": [
        {
          "output_type": "stream",
          "name": "stdout",
          "text": [
            "2\n"
          ]
        }
      ]
    },
    {
      "cell_type": "code",
      "source": [
        "print(t[0:4]) #t의 인덱스0~인덱스3까스"
      ],
      "metadata": {
        "colab": {
          "base_uri": "https://localhost:8080/"
        },
        "id": "8bExdAtxYBlZ",
        "outputId": "563ba875-d23e-4732-f0b4-4ed95accf01e"
      },
      "execution_count": null,
      "outputs": [
        {
          "output_type": "stream",
          "name": "stdout",
          "text": [
            "(1, 2, 3, 4)\n"
          ]
        }
      ]
    },
    {
      "cell_type": "code",
      "source": [
        "t1 = t[0:4] #뽑아서 다른 곳에 저장\n",
        "print(t1)"
      ],
      "metadata": {
        "colab": {
          "base_uri": "https://localhost:8080/"
        },
        "id": "pfp93HvvYHJR",
        "outputId": "6740bd5f-8268-4a9e-89f5-704362085fee"
      },
      "execution_count": null,
      "outputs": [
        {
          "output_type": "stream",
          "name": "stdout",
          "text": [
            "(1, 2, 3, 4)\n"
          ]
        }
      ]
    },
    {
      "cell_type": "code",
      "source": [
        "a = (1,2)\n",
        "b = (3,4,5)\n",
        "c = a+b #합치는 것은 가능\n",
        "print(c)"
      ],
      "metadata": {
        "colab": {
          "base_uri": "https://localhost:8080/"
        },
        "id": "LsAHDLeUYRId",
        "outputId": "5296789c-1c99-48fb-e9cd-aae6dc1bc88f"
      },
      "execution_count": null,
      "outputs": [
        {
          "output_type": "stream",
          "name": "stdout",
          "text": [
            "(1, 2, 3, 4, 5)\n"
          ]
        }
      ]
    },
    {
      "cell_type": "code",
      "source": [
        "d = a*3 # 반복\n",
        "print(d)"
      ],
      "metadata": {
        "colab": {
          "base_uri": "https://localhost:8080/"
        },
        "id": "elyJzd4pYZVR",
        "outputId": "06c00289-bc9a-4412-ce3b-fd80bfd176ff"
      },
      "execution_count": null,
      "outputs": [
        {
          "output_type": "stream",
          "name": "stdout",
          "text": [
            "(1, 2, 1, 2, 1, 2)\n"
          ]
        }
      ]
    },
    {
      "cell_type": "code",
      "source": [
        "name = ('David', 'Kim')\n",
        "print(name) #변경불가. 개인정보 관련 데이터에 사용하면 좋을듯. 안정적인 데이터 관리\n",
        "print(type(name)) #<class 'tuple'>"
      ],
      "metadata": {
        "colab": {
          "base_uri": "https://localhost:8080/"
        },
        "id": "96pDDxebYdOt",
        "outputId": "3698eabc-2b9e-479c-8b55-bcddf793487d"
      },
      "execution_count": null,
      "outputs": [
        {
          "output_type": "stream",
          "name": "stdout",
          "text": [
            "('David', 'Kim')\n",
            "<class 'tuple'>\n"
          ]
        }
      ]
    },
    {
      "cell_type": "code",
      "source": [
        "firstname, lastname = ('David', 'Kim') #firstname, lastname 변수 각각에 값을 넣어줌\n",
        "print(lastname,'', firstname)\n",
        "print(type(lastname)) # 오잉. 문자형인디 ?"
      ],
      "metadata": {
        "colab": {
          "base_uri": "https://localhost:8080/"
        },
        "id": "II1R1hkxYmEM",
        "outputId": "51af0b99-a352-4d8b-9b8b-b76b0083531e"
      },
      "execution_count": 3,
      "outputs": [
        {
          "output_type": "stream",
          "name": "stdout",
          "text": [
            "Kim  David\n",
            "<class 'str'>\n"
          ]
        }
      ]
    },
    {
      "cell_type": "code",
      "source": [
        "print(firstname)"
      ],
      "metadata": {
        "colab": {
          "base_uri": "https://localhost:8080/"
        },
        "id": "CGdd7kYVjaED",
        "outputId": "caef1677-9ba1-4cfe-fa14-55e7370bec74"
      },
      "execution_count": 4,
      "outputs": [
        {
          "output_type": "stream",
          "name": "stdout",
          "text": [
            "David\n"
          ]
        }
      ]
    },
    {
      "cell_type": "code",
      "source": [
        "print(lastname)"
      ],
      "metadata": {
        "colab": {
          "base_uri": "https://localhost:8080/"
        },
        "id": "ysQoBTbhjb4M",
        "outputId": "409ed62e-4c3f-4171-9606-5b9e74bcf141"
      },
      "execution_count": 7,
      "outputs": [
        {
          "output_type": "stream",
          "name": "stdout",
          "text": [
            "Kim\n"
          ]
        }
      ]
    },
    {
      "cell_type": "code",
      "source": [
        "print(type(firstname))"
      ],
      "metadata": {
        "colab": {
          "base_uri": "https://localhost:8080/"
        },
        "id": "qd-AaH2rjk_F",
        "outputId": "80a48d0d-7a63-4272-e0a0-8d1000e4340d"
      },
      "execution_count": 8,
      "outputs": [
        {
          "output_type": "stream",
          "name": "stdout",
          "text": [
            "<class 'str'>\n"
          ]
        }
      ]
    },
    {
      "cell_type": "code",
      "source": [
        "print(type(lastname))"
      ],
      "metadata": {
        "colab": {
          "base_uri": "https://localhost:8080/"
        },
        "id": "uaFHLUlzjmoE",
        "outputId": "5c8fd3b5-fecb-456c-f1be-5a32b388a6fd"
      },
      "execution_count": 9,
      "outputs": [
        {
          "output_type": "stream",
          "name": "stdout",
          "text": [
            "<class 'str'>\n"
          ]
        }
      ]
    },
    {
      "cell_type": "markdown",
      "source": [
        "집합 - 중괄호, 순서X"
      ],
      "metadata": {
        "id": "mEcsNa_qZXoR"
      }
    },
    {
      "cell_type": "code",
      "source": [
        "set = {1, 1, 2, 3, 3}\n",
        "print(set) #중복된 것 제외하고 출력됨"
      ],
      "metadata": {
        "colab": {
          "base_uri": "https://localhost:8080/"
        },
        "id": "-Z7jalCLZQxi",
        "outputId": "a27f6f58-056c-45f8-8f0a-46cc2de010d3"
      },
      "execution_count": null,
      "outputs": [
        {
          "output_type": "stream",
          "name": "stdout",
          "text": [
            "{1, 2, 3}\n"
          ]
        }
      ]
    },
    {
      "cell_type": "code",
      "source": [
        "set = {1, 2, 3}#\n",
        "set.add(4) #추가\n",
        "set"
      ],
      "metadata": {
        "colab": {
          "base_uri": "https://localhost:8080/"
        },
        "id": "CLRPssMMZtrY",
        "outputId": "6640e5ad-9ef9-4f2e-bfc1-cdfd6c1cd07e"
      },
      "execution_count": null,
      "outputs": [
        {
          "output_type": "stream",
          "name": "stdout",
          "text": [
            "{1, 2, 3, 4}\n"
          ]
        }
      ]
    },
    {
      "cell_type": "code",
      "source": [
        "set.update({5,6,7}) #값 여러개 추가\n",
        "set"
      ],
      "metadata": {
        "colab": {
          "base_uri": "https://localhost:8080/"
        },
        "id": "m2hklbwBZ-K5",
        "outputId": "732238e4-7e40-4fc4-af55-d9c76af74a6f"
      },
      "execution_count": null,
      "outputs": [
        {
          "output_type": "stream",
          "name": "stdout",
          "text": [
            "{1, 2, 3, 4, 5, 6, 7}\n"
          ]
        }
      ]
    },
    {
      "cell_type": "code",
      "source": [
        "set.remove(1) #값이 1인 것을 지움. 순서가 없다 !!. 1은 순서가 아니라 값을 의미\n",
        "set"
      ],
      "metadata": {
        "colab": {
          "base_uri": "https://localhost:8080/"
        },
        "id": "Yq1ptUqZaIZT",
        "outputId": "8495ccde-c0f1-42dc-c379-73286f5bcbc3"
      },
      "execution_count": null,
      "outputs": [
        {
          "output_type": "stream",
          "name": "stdout",
          "text": [
            "{2, 3, 4, 5, 6, 7}\n"
          ]
        }
      ]
    },
    {
      "cell_type": "code",
      "source": [
        "set.clear()#모두 지움\n",
        "set"
      ],
      "metadata": {
        "colab": {
          "base_uri": "https://localhost:8080/"
        },
        "id": "jxj21OOZaWbo",
        "outputId": "68409600-cc31-4d67-9090-d482ca883917"
      },
      "execution_count": null,
      "outputs": [
        {
          "output_type": "execute_result",
          "data": {
            "text/plain": [
              "set()"
            ]
          },
          "metadata": {},
          "execution_count": 88
        }
      ]
    },
    {
      "cell_type": "code",
      "source": [
        "a = {1,2,3}\n",
        "b = {1,3,4}\n",
        "\n",
        "c = a&b #교집합\n",
        "print(c)\n",
        "\n",
        "d = a|b #합집합\n",
        "print(d)\n",
        "\n",
        "e = a - b #차집합\n",
        "print(e)"
      ],
      "metadata": {
        "colab": {
          "base_uri": "https://localhost:8080/"
        },
        "id": "XwkIq7DlaoZm",
        "outputId": "71eb3a73-6e05-4e9c-c22c-a9f101eda012"
      },
      "execution_count": 13,
      "outputs": [
        {
          "output_type": "stream",
          "name": "stdout",
          "text": [
            "{1, 3}\n",
            "{1, 2, 3, 4}\n",
            "{2}\n"
          ]
        }
      ]
    },
    {
      "cell_type": "code",
      "source": [
        "print(c, d, e)"
      ],
      "metadata": {
        "colab": {
          "base_uri": "https://localhost:8080/"
        },
        "id": "a2oQ3oNul3rI",
        "outputId": "fb49b719-bbf2-44c7-f9a5-a071f3cd5ee3"
      },
      "execution_count": 14,
      "outputs": [
        {
          "output_type": "stream",
          "name": "stdout",
          "text": [
            "{1, 3} {1, 2, 3, 4} {2}\n"
          ]
        }
      ]
    },
    {
      "cell_type": "markdown",
      "source": [
        "dictionary - key, value가 하나로 이루어져있음(하나의 세트.쌍)"
      ],
      "metadata": {
        "id": "53MEMK2FbMnE"
      }
    },
    {
      "cell_type": "code",
      "source": [
        "dic = {'Kim' : 90, 'Jung' : 80, 'Park' : 75}\n",
        "print(dic)"
      ],
      "metadata": {
        "colab": {
          "base_uri": "https://localhost:8080/"
        },
        "id": "ZSYwX8yhbMPF",
        "outputId": "b90d91bc-9f3e-464a-fbff-50994b854819"
      },
      "execution_count": 15,
      "outputs": [
        {
          "output_type": "stream",
          "name": "stdout",
          "text": [
            "{'Kim': 90, 'Jung': 80, 'Park': 75}\n"
          ]
        }
      ]
    },
    {
      "cell_type": "code",
      "source": [
        "dic['Kim'] #요소에 접근할 때는 대괄호"
      ],
      "metadata": {
        "colab": {
          "base_uri": "https://localhost:8080/"
        },
        "id": "gDHQTliabqkm",
        "outputId": "7c2142bc-abf8-4304-9824-a61e5dca8513"
      },
      "execution_count": null,
      "outputs": [
        {
          "output_type": "execute_result",
          "data": {
            "text/plain": [
              "90"
            ]
          },
          "metadata": {},
          "execution_count": 93
        }
      ]
    },
    {
      "cell_type": "code",
      "source": [
        "dic['Jung'] = 85 #값 변경\n",
        "print(dic)"
      ],
      "metadata": {
        "id": "UUiI-0xwcd4L",
        "colab": {
          "base_uri": "https://localhost:8080/"
        },
        "outputId": "fb8c0d87-d674-4e6b-dbd9-412db7430def"
      },
      "execution_count": 16,
      "outputs": [
        {
          "output_type": "stream",
          "name": "stdout",
          "text": [
            "{'Kim': 90, 'Jung': 85, 'Park': 75}\n"
          ]
        }
      ]
    },
    {
      "cell_type": "code",
      "source": [
        "dic['Cho'] = 95 #값 추가\n",
        "print(dic)"
      ],
      "metadata": {
        "colab": {
          "base_uri": "https://localhost:8080/"
        },
        "id": "ShJNTQ-BdPj3",
        "outputId": "2947d9a5-c526-4c66-c8db-5dd4e703b7d9"
      },
      "execution_count": 17,
      "outputs": [
        {
          "output_type": "stream",
          "name": "stdout",
          "text": [
            "{'Kim': 90, 'Jung': 85, 'Park': 75, 'Cho': 95}\n"
          ]
        }
      ]
    },
    {
      "cell_type": "code",
      "source": [
        "del dic['Park'] #삭제\n",
        "print(dic)\n",
        "# dictinary에서 요소에 접근할때는 key와 value로 !!"
      ],
      "metadata": {
        "colab": {
          "base_uri": "https://localhost:8080/"
        },
        "id": "jes6QldbdYin",
        "outputId": "768044fa-f92e-4aa8-98b3-4922917c49d4"
      },
      "execution_count": 18,
      "outputs": [
        {
          "output_type": "stream",
          "name": "stdout",
          "text": [
            "{'Kim': 90, 'Jung': 85, 'Cho': 95}\n"
          ]
        }
      ]
    },
    {
      "cell_type": "code",
      "source": [
        "print(dic.keys()) #key값들 전부 가져오기"
      ],
      "metadata": {
        "colab": {
          "base_uri": "https://localhost:8080/"
        },
        "id": "X_XawbpydkQO",
        "outputId": "da350875-d1ab-45c8-d8e1-9e1c1f7f2b22"
      },
      "execution_count": null,
      "outputs": [
        {
          "output_type": "stream",
          "name": "stdout",
          "text": [
            "dict_keys(['Kim', 'Jung', 'Cho'])\n"
          ]
        }
      ]
    },
    {
      "cell_type": "code",
      "source": [
        "print(dic.values()) #value값 전부 가져오기"
      ],
      "metadata": {
        "colab": {
          "base_uri": "https://localhost:8080/"
        },
        "id": "UpxRGpQIdpzU",
        "outputId": "5a45cef8-5ba6-44b6-e05e-d0c370dece77"
      },
      "execution_count": null,
      "outputs": [
        {
          "output_type": "stream",
          "name": "stdout",
          "text": [
            "dict_values([90, 85, 95])\n"
          ]
        }
      ]
    },
    {
      "cell_type": "code",
      "source": [
        "print(dic.items())"
      ],
      "metadata": {
        "colab": {
          "base_uri": "https://localhost:8080/"
        },
        "id": "yyfl0WHLnu72",
        "outputId": "29f1159a-d3d2-4708-eb75-976c190d0e59"
      },
      "execution_count": 20,
      "outputs": [
        {
          "output_type": "stream",
          "name": "stdout",
          "text": [
            "dict_items([('Kim', 90), ('Jung', 85), ('Cho', 95)])\n"
          ]
        }
      ]
    },
    {
      "cell_type": "markdown",
      "source": [
        "(dictionary)\n",
        "접근시 -> 대괄호 !!\n",
        "제품의 일련번호와 가격, 가게의 메뉴 등과괕은 db 구축할때 쓰임. key와 value가 대응"
      ],
      "metadata": {
        "id": "EoOAmWLGdwal"
      }
    },
    {
      "cell_type": "markdown",
      "source": [
        "if, for, while문"
      ],
      "metadata": {
        "id": "tTTjtgaKeEbL"
      }
    },
    {
      "cell_type": "code",
      "source": [
        "# 5000이상 있으면 택시, 3000원이면 ktx, 그 이하면 걸어가기 .. 돈 -> 알려주고 싶다\n",
        "\n",
        "money = 4000\n",
        "\n",
        "if money >= 5000: # == : 같다는 의미\n",
        "  print(\"KTX 타삼\")\n",
        "elif money >= 3000:\n",
        "  print(\"택시 타삼\")\n",
        "else:\n",
        "  print(\"걸어가라\")\n",
        "# 중간에는 elif, 처음엔 if, 마지막엔 else"
      ],
      "metadata": {
        "colab": {
          "base_uri": "https://localhost:8080/"
        },
        "id": "chCHBY8UeHBx",
        "outputId": "3ddfbfa5-25df-43d0-81b3-6b55365d936c"
      },
      "execution_count": null,
      "outputs": [
        {
          "output_type": "stream",
          "name": "stdout",
          "text": [
            "택시 타삼\n"
          ]
        }
      ]
    },
    {
      "cell_type": "code",
      "source": [
        "sum = 0 #초기화. 초기값지정\n",
        "for i in range(11): #0~10(11-1)까지, 1씩 증가\n",
        "  sum = sum + i #누적합\n",
        "print(sum)"
      ],
      "metadata": {
        "colab": {
          "base_uri": "https://localhost:8080/"
        },
        "id": "2Bh1axZrfWXb",
        "outputId": "ec5a7b07-7f54-4e99-e22d-fa2ce0d0b329"
      },
      "execution_count": null,
      "outputs": [
        {
          "output_type": "stream",
          "name": "stdout",
          "text": [
            "55\n"
          ]
        }
      ]
    },
    {
      "cell_type": "code",
      "source": [
        "list = ['Donga', 'mis', 'python']\n",
        "for s in list:\n",
        "  print(s)"
      ],
      "metadata": {
        "colab": {
          "base_uri": "https://localhost:8080/"
        },
        "id": "jlFWn0ESfn9f",
        "outputId": "c5f3a844-dad9-434b-806d-057f448c19c5"
      },
      "execution_count": null,
      "outputs": [
        {
          "output_type": "stream",
          "name": "stdout",
          "text": [
            "Donga\n",
            "mis\n",
            "python\n"
          ]
        }
      ]
    },
    {
      "cell_type": "code",
      "source": [
        "i = 0\n",
        "while i < 10: #9까지 실행\n",
        "  print(i)\n",
        "  i=i+1"
      ],
      "metadata": {
        "colab": {
          "base_uri": "https://localhost:8080/"
        },
        "id": "AiCBnTjKgkhH",
        "outputId": "b10a310a-fa6a-4bb1-ad6d-e25c9f813cbe"
      },
      "execution_count": null,
      "outputs": [
        {
          "output_type": "stream",
          "name": "stdout",
          "text": [
            "0\n",
            "1\n",
            "2\n",
            "3\n",
            "4\n",
            "5\n",
            "6\n",
            "7\n",
            "8\n",
            "9\n"
          ]
        }
      ]
    },
    {
      "cell_type": "code",
      "source": [
        "food = ['apple', 'banana', 'coffee', 'bread']\n",
        "i=0\n",
        "while i < len(food): #len : 길이.\n",
        "  print(i, food[i])\n",
        "  i+=1"
      ],
      "metadata": {
        "colab": {
          "base_uri": "https://localhost:8080/"
        },
        "id": "Keu3uwjyg4aW",
        "outputId": "61467c19-35b8-43a5-edb1-c225c75f9a6a"
      },
      "execution_count": null,
      "outputs": [
        {
          "output_type": "stream",
          "name": "stdout",
          "text": [
            "0 apple\n",
            "1 banana\n",
            "2 coffee\n",
            "3 bread\n"
          ]
        }
      ]
    },
    {
      "cell_type": "code",
      "source": [
        ""
      ],
      "metadata": {
        "id": "b4HL5UKphGry"
      },
      "execution_count": null,
      "outputs": []
    }
  ]
}
